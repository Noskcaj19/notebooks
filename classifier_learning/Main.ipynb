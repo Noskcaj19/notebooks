{
 "cells": [
  {
   "cell_type": "code",
   "execution_count": 1,
   "metadata": {
    "collapsed": true
   },
   "outputs": [],
   "source": [
    "import numpy as np\n",
    "from sklearn import svm"
   ]
  },
  {
   "cell_type": "markdown",
   "metadata": {},
   "source": [
    "Create the training data, a vertical line and a horizontal line"
   ]
  },
  {
   "cell_type": "code",
   "execution_count": 2,
   "metadata": {
    "collapsed": true
   },
   "outputs": [],
   "source": [
    "up = np.array([[i,x] for i,x in zip((0 for _ in iter(int,1)), range(-10, 10))]).ravel()"
   ]
  },
  {
   "cell_type": "code",
   "execution_count": 8,
   "metadata": {},
   "outputs": [],
   "source": [
    "up_2_right = np.array([[i,x] for i,x in zip(range(-10, 10), range(-15, 5))]).ravel()"
   ]
  },
  {
   "cell_type": "code",
   "execution_count": 9,
   "metadata": {
    "collapsed": true
   },
   "outputs": [],
   "source": [
    "left_to_right = np.array([[i,x] for i,x in zip(range(-10, 10), (0 for _ in iter(int,1)))]).ravel()"
   ]
  },
  {
   "cell_type": "markdown",
   "metadata": {},
   "source": [
    "Create the SVC"
   ]
  },
  {
   "cell_type": "code",
   "execution_count": 10,
   "metadata": {},
   "outputs": [],
   "source": [
    "clf = svm.SVC(gamma=0.0001, C=50, probability=True)"
   ]
  },
  {
   "cell_type": "markdown",
   "metadata": {},
   "source": [
    "Fit the models to the classifier"
   ]
  },
  {
   "cell_type": "code",
   "execution_count": 11,
   "metadata": {},
   "outputs": [
    {
     "data": {
      "text/plain": [
       "SVC(C=50, cache_size=200, class_weight=None, coef0=0.0,\n",
       "  decision_function_shape='ovr', degree=3, gamma=0.0001, kernel='rbf',\n",
       "  max_iter=-1, probability=True, random_state=None, shrinking=True,\n",
       "  tol=0.001, verbose=False)"
      ]
     },
     "execution_count": 11,
     "metadata": {},
     "output_type": "execute_result"
    }
   ],
   "source": [
    "clf.fit(np.array([up, up_2_right, left_to_right]), np.array(['up', 'up2right', 'l2r']))"
   ]
  },
  {
   "cell_type": "code",
   "execution_count": 12,
   "metadata": {},
   "outputs": [
    {
     "data": {
      "text/plain": [
       "array([[-0.28143197,  2.49999996,  0.78143202],\n",
       "       [-0.26764516,  0.76764516,  2.5       ],\n",
       "       [ 2.49999994, -0.26391024,  0.7639103 ]])"
      ]
     },
     "execution_count": 12,
     "metadata": {},
     "output_type": "execute_result"
    }
   ],
   "source": [
    "clf.decision_function([up, up_2_right, left_to_right])"
   ]
  },
  {
   "cell_type": "markdown",
   "metadata": {},
   "source": [
    "Simple prediction"
   ]
  },
  {
   "cell_type": "code",
   "execution_count": 13,
   "metadata": {},
   "outputs": [
    {
     "data": {
      "text/plain": [
       "array(['l2r', 'up2right', 'up'], dtype='<U8')"
      ]
     },
     "execution_count": 13,
     "metadata": {},
     "output_type": "execute_result"
    }
   ],
   "source": [
    "clf.predict([left_to_right, up_2_right, up])"
   ]
  },
  {
   "cell_type": "markdown",
   "metadata": {},
   "source": [
    "Create some noisy data"
   ]
  },
  {
   "cell_type": "code",
   "execution_count": 14,
   "metadata": {},
   "outputs": [],
   "source": [
    "noisy_data = np.array([\n",
    "       [  1, -10],\n",
    "       [  3,  -9],\n",
    "       [ -4,  -9],\n",
    "       [ -3,  -9],\n",
    "       [  2,  -9],\n",
    "       [  5,  -6],\n",
    "       [  1,  -4],\n",
    "       [  0,  -3],\n",
    "       [  0,  -5],\n",
    "       [  4,  -3],\n",
    "       [  0,   2],\n",
    "       [  6,   1],ZZ\n",
    "       [  0,   4],\n",
    "       [  0,   3],\n",
    "       [ 11,   6],\n",
    "       [ -6,   8],\n",
    "       [  4,   6],\n",
    "       [  0,   9],\n",
    "       [  0,   8],\n",
    "       [  0,  10]])"
   ]
  },
  {
   "cell_type": "code",
   "execution_count": 15,
   "metadata": {
    "collapsed": true
   },
   "outputs": [],
   "source": [
    "vertical = np.array([\n",
    "       [ 132, -2861],\n",
    "       [ 132, 2862],\n",
    "       [ 132, 2864],\n",
    "       [ 132, 2865],\n",
    "       [ 132, 2866],\n",
    "       [ 132, 2867],\n",
    "       [ 132, 2868],\n",
    "       [ 132, 2869],\n",
    "       [ 132, 2870],\n",
    "       [ 132, 2871],\n",
    "       [ 132, 2872],\n",
    "       [ 132, 2873],\n",
    "       [ 132, 2874],\n",
    "       [ 132, 2875],\n",
    "       [ 132, 2876],\n",
    "       [ 132, 2877],\n",
    "       [ 132, 2878],\n",
    "       [ 132, 2879],\n",
    "       [ 132, 2880],\n",
    "       [ 132, 2881]])"
   ]
  },
  {
   "cell_type": "code",
   "execution_count": 16,
   "metadata": {
    "collapsed": true
   },
   "outputs": [],
   "source": [
    "up_right_trend = np.array([\n",
    "       [  98, 2862],\n",
    "       [  99, 2862],\n",
    "       [ 101, 2864],\n",
    "       [ 102, 2865],\n",
    "       [ 104, 2866],\n",
    "       [ 105, 2867],\n",
    "       [ 107, 2868],\n",
    "       [ 108, 2870],\n",
    "       [ 110, 2871],\n",
    "       [ 111, 2872],\n",
    "       [ 112, 2872],\n",
    "       [ 114, 2874],\n",
    "       [ 116, 2875],\n",
    "       [ 117, 2877],\n",
    "       [ 119, 2878],\n",
    "       [ 121, 2880],\n",
    "       [ 123, 2881],\n",
    "       [ 125, 2883],\n",
    "       [ 127, 2885],\n",
    "       [ 129, 2887]])"
   ]
  },
  {
   "cell_type": "code",
   "execution_count": 17,
   "metadata": {},
   "outputs": [
    {
     "data": {
      "text/plain": [
       "array(['up', 'up2right', 'up2right'], dtype='<U8')"
      ]
     },
     "execution_count": 17,
     "metadata": {},
     "output_type": "execute_result"
    }
   ],
   "source": [
    "clf.predict([noisy_data.ravel(), vertical.ravel(), up_right_trend.ravel()])"
   ]
  },
  {
   "cell_type": "code",
   "execution_count": 18,
   "metadata": {},
   "outputs": [
    {
     "data": {
      "text/plain": [
       "array([[    0, -2861],\n",
       "       [    0,  2862],\n",
       "       [    0,  2864],\n",
       "       [    0,  2865],\n",
       "       [    0,  2866],\n",
       "       [    0,  2867],\n",
       "       [    0,  2868],\n",
       "       [    0,  2869],\n",
       "       [    0,  2870],\n",
       "       [    0,  2871],\n",
       "       [    0,  2872],\n",
       "       [    0,  2873],\n",
       "       [    0,  2874],\n",
       "       [    0,  2875],\n",
       "       [    0,  2876],\n",
       "       [    0,  2877],\n",
       "       [    0,  2878],\n",
       "       [    0,  2879],\n",
       "       [    0,  2880],\n",
       "       [    0,  2881]])"
      ]
     },
     "execution_count": 18,
     "metadata": {},
     "output_type": "execute_result"
    }
   ],
   "source": [
    "vertical[:, 0] = 0\n",
    "vertical"
   ]
  },
  {
   "cell_type": "code",
   "execution_count": 19,
   "metadata": {},
   "outputs": [
    {
     "data": {
      "text/plain": [
       "array(['up', 'up2right', 'up2right'], dtype='<U8')"
      ]
     },
     "execution_count": 19,
     "metadata": {},
     "output_type": "execute_result"
    }
   ],
   "source": [
    "clf.predict([noisy_data.ravel(), vertical.ravel(), up_right_trend.ravel()])"
   ]
  },
  {
   "cell_type": "code",
   "execution_count": 20,
   "metadata": {},
   "outputs": [
    {
     "data": {
      "text/plain": [
       "array([[-0.33319767,  2.5       ,  0.83319767],\n",
       "       [ 2.        ,  1.        ,  0.        ],\n",
       "       [ 2.        ,  1.        ,  0.        ]])"
      ]
     },
     "execution_count": 20,
     "metadata": {},
     "output_type": "execute_result"
    }
   ],
   "source": [
    "clf.decision_function([noisy_data.ravel(), vertical.ravel(), up_right_trend.ravel()])"
   ]
  }
 ],
 "metadata": {
  "kernelspec": {
   "display_name": "Python 3",
   "language": "python",
   "name": "python3"
  },
  "language_info": {
   "codemirror_mode": {
    "name": "ipython",
    "version": 3
   },
   "file_extension": ".py",
   "mimetype": "text/x-python",
   "name": "python",
   "nbconvert_exporter": "python",
   "pygments_lexer": "ipython3",
   "version": "3.7.0"
  }
 },
 "nbformat": 4,
 "nbformat_minor": 2
}
